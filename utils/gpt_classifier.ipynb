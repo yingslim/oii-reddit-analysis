{
 "cells": [
  {
   "cell_type": "markdown",
   "metadata": {},
   "source": [
    "# Classifier ReadMe\n",
    "\n",
    "Used to classify posts by cultural <-> political <-> others.\n",
    "OpenAI API keys required, please update accordingly in the **config.py**"
   ]
  },
  {
   "cell_type": "markdown",
   "metadata": {},
   "source": [
    "## Step 1: Loading Packages and Meta-attributes"
   ]
  },
  {
   "cell_type": "code",
   "execution_count": 2,
   "metadata": {},
   "outputs": [],
   "source": [
    "import os\n",
    "import sys\n",
    "import openai\n",
    "import pandas as pd\n",
    "import numpy as np\n",
    "sys.path.append('../') \n",
    "import config.settings as settings"
   ]
  },
  {
   "cell_type": "code",
   "execution_count": 5,
   "metadata": {},
   "outputs": [],
   "source": [
    "# Getting meta configuration from the config class\n",
    "post_data_path = settings.PROJ_PATH+\"/post_data\"\n",
    "openAI_api_key = settings.OPENAI_API"
   ]
  },
  {
   "cell_type": "code",
   "execution_count": 6,
   "metadata": {},
   "outputs": [],
   "source": [
    "client = openai.OpenAI(\n",
    "  api_key = openAI_api_key\n",
    ")"
   ]
  },
  {
   "cell_type": "code",
   "execution_count": 8,
   "metadata": {},
   "outputs": [],
   "source": [
    "def content_gen(body):\n",
    "   content = f\"\"\"\n",
    "      You are a specialized content classifier for the r/china subreddit. Your task is to categorize the discussion below and try your best to fit them into either political/cultural/other based on the standards below:\n",
    "      {body}\n",
    "      CATEGORIES:\n",
    "      1. POLITICS - Posts about:\n",
    "         - Government, political parties, policies\n",
    "         - International relations and diplomacy\n",
    "         - Laws and regulations\n",
    "         - Civil rights and activism\n",
    "         - Current political events\n",
    "         - Censorship and media control\n",
    "\n",
    "      2. CULTURAL - Posts about:\n",
    "         - Traditions and customs\n",
    "         - Food and cuisine\n",
    "         - Languages and linguistics\n",
    "         - Arts and entertainment\n",
    "         - History and heritage\n",
    "         - Philosophy and religion\n",
    "         - Daily life and social norms\n",
    "         - Education and learning languages\n",
    "         - Travel and tourism experiences\n",
    "\n",
    "      3. OTHER\n",
    "\n",
    "      INSTRUCTIONS:\n",
    "      1. Analyze the provided post text\n",
    "      2. Classify it into exactly one of the above categories\n",
    "      4. **OUTPUT ONLY ONE SINGLE WORD, CULTURAL/POLITICAL/OTHER**\"\"\"\n",
    "   return content"
   ]
  },
  {
   "cell_type": "code",
   "execution_count": 7,
   "metadata": {},
   "outputs": [],
   "source": [
    "china_post_data = pd.read_csv(post_data_path+\"/raw_data_china_post.csv\")\n",
    "hk_post_data = pd.read_csv(post_data_path+\"/raw_data_hongkong_post.csv\")\n",
    "tw_post_data = pd.read_csv(post_data_path+\"/raw_data_taiwan_post.csv\")\n",
    "dfs = [china_post_data,hk_post_data,tw_post_data]"
   ]
  },
  {
   "cell_type": "code",
   "execution_count": null,
   "metadata": {},
   "outputs": [],
   "source": [
    "china_post_data"
   ]
  },
  {
   "cell_type": "code",
   "execution_count": null,
   "metadata": {},
   "outputs": [],
   "source": [
    "for i, df in enumerate(dfs):\n",
    "    for idx, row in df.iterrows(): \n",
    "        if row['post_body'] is None:\n",
    "            continue\n",
    "        body = row['post_body']\n",
    "        \n",
    "        completion = client.chat.completions.create(\n",
    "            messages=[\n",
    "                {\n",
    "                    \"role\": \"user\",\n",
    "                    \"content\": content_gen(body)\n",
    "                }\n",
    "            ],\n",
    "            model=\"gpt-4o-mini\",\n",
    "        )\n",
    "        msg_content = completion.choices[0].message.content\n",
    "        df.at[idx, 'gpt_score'] = msg_content\n",
    "        print(f\"Post{row['post_id']}: \"+msg_content)\n",
    "    dfs[i] = df\n"
   ]
  },
  {
   "cell_type": "code",
   "execution_count": null,
   "metadata": {},
   "outputs": [],
   "source": [
    "dfs[0]"
   ]
  },
  {
   "cell_type": "code",
   "execution_count": null,
   "metadata": {},
   "outputs": [],
   "source": [
    "def merge_gpt_classifier_res(cmt_df, res_df, output):\n",
    "    merged_df = cmt_df.merge(res_df[['post_id','gpt_score']], on='post_id', how='left')\n",
    "    merged_df.to_csv(output, index=False)"
   ]
  },
  {
   "cell_type": "code",
   "execution_count": null,
   "metadata": {},
   "outputs": [],
   "source": [
    "tw_cmt_df = pd.read_csv(\"post_data/taiwan_comments.csv\")\n",
    "merge_gpt_classifier_res(tw_cmt_df,dfs[2],\"tw_scored_pnc_df.csv\")"
   ]
  },
  {
   "cell_type": "code",
   "execution_count": null,
   "metadata": {},
   "outputs": [],
   "source": [
    "hk_cmt_df = pd.read_csv(\"post_data/hongkong_comments.csv\")\n",
    "merge_gpt_classifier_res(hk_cmt_df,dfs[1],\"hk_scored_pnc_df.csv\")"
   ]
  },
  {
   "cell_type": "code",
   "execution_count": null,
   "metadata": {},
   "outputs": [],
   "source": [
    "tw_cmt_df = pd.read_csv(\"post_data/china_comments.csv\")\n",
    "merge_gpt_classifier_res(tw_cmt_df,dfs[0],\"cn_scored_pnc_df.csv\")"
   ]
  }
 ],
 "metadata": {
  "kernelspec": {
   "display_name": "base",
   "language": "python",
   "name": "python3"
  },
  "language_info": {
   "codemirror_mode": {
    "name": "ipython",
    "version": 3
   },
   "file_extension": ".py",
   "mimetype": "text/x-python",
   "name": "python",
   "nbconvert_exporter": "python",
   "pygments_lexer": "ipython3",
   "version": "3.12.7"
  }
 },
 "nbformat": 4,
 "nbformat_minor": 2
}
